{
 "cells": [
  {
   "cell_type": "code",
   "execution_count": 1,
   "metadata": {},
   "outputs": [],
   "source": [
    "import pyspark\n",
    "import pandas as pd\n",
    "import numpy as np\n",
    "# create spark session\n",
    "spark = pyspark.sql.SparkSession.builder.getOrCreate()\n",
    "from pyspark.sql.functions import *"
   ]
  },
  {
   "cell_type": "markdown",
   "metadata": {},
   "source": [
    "### Create a spark data frame that contains your favorite programming languages.\n",
    "- The name of the column should be language\n",
    "- View the schema of the dataframe\n",
    "- Output the shape of the dataframe\n",
    "- Show the first 5 records in the dataframe"
   ]
  },
  {
   "cell_type": "code",
   "execution_count": 2,
   "metadata": {},
   "outputs": [],
   "source": [
    "# create pandas dataframe\n",
    "\n",
    "pd_df = pd.DataFrame({'language': ['python', 'julia', 'ruby', 'R', 'C++', 'Javascript', 'Typescript', 'Swift', 'Rust']})"
   ]
  },
  {
   "cell_type": "code",
   "execution_count": 3,
   "metadata": {},
   "outputs": [
    {
     "data": {
      "text/plain": [
       "DataFrame[language: string]"
      ]
     },
     "execution_count": 3,
     "metadata": {},
     "output_type": "execute_result"
    }
   ],
   "source": [
    "# create spark dataframe from panadas dataframe\n",
    "sp_df = spark.createDataFrame(pd_df)\n",
    "sp_df"
   ]
  },
  {
   "cell_type": "code",
   "execution_count": 4,
   "metadata": {},
   "outputs": [
    {
     "name": "stdout",
     "output_type": "stream",
     "text": [
      "root\n",
      " |-- language: string (nullable = true)\n",
      "\n"
     ]
    }
   ],
   "source": [
    "# View the shema of the dataframe\n",
    "sp_df.printSchema()"
   ]
  },
  {
   "cell_type": "code",
   "execution_count": 5,
   "metadata": {},
   "outputs": [
    {
     "data": {
      "text/plain": [
       "[('language', 'string')]"
      ]
     },
     "execution_count": 5,
     "metadata": {},
     "output_type": "execute_result"
    }
   ],
   "source": [
    "# another way to print schema\n",
    "sp_df.dtypes"
   ]
  },
  {
   "cell_type": "code",
   "execution_count": 6,
   "metadata": {},
   "outputs": [
    {
     "name": "stdout",
     "output_type": "stream",
     "text": [
      "+-------+--------+\n",
      "|summary|language|\n",
      "+-------+--------+\n",
      "|  count|       9|\n",
      "|   mean|    null|\n",
      "| stddev|    null|\n",
      "|    min|     C++|\n",
      "|    max|    ruby|\n",
      "+-------+--------+\n",
      "\n",
      "DataFrame shape:  9  x  1\n"
     ]
    }
   ],
   "source": [
    "#output the shape of the dataframe\n",
    "sp_df.describe().show()\n",
    "print(\"DataFrame shape: \", sp_df.count(), \" x \", len(sp_df.columns))"
   ]
  },
  {
   "cell_type": "code",
   "execution_count": 7,
   "metadata": {},
   "outputs": [
    {
     "name": "stdout",
     "output_type": "stream",
     "text": [
      "+--------+\n",
      "|language|\n",
      "+--------+\n",
      "|  python|\n",
      "|   julia|\n",
      "|    ruby|\n",
      "|       R|\n",
      "|     C++|\n",
      "+--------+\n",
      "only showing top 5 rows\n",
      "\n"
     ]
    }
   ],
   "source": [
    "sp_df.show(5)"
   ]
  },
  {
   "cell_type": "markdown",
   "metadata": {},
   "source": [
    "### Load the mpg dataset as a spark dataframe.\n",
    "- Create 1 column of output that contains a message like the one below:\n",
    ">- The 1999 audi a4 has a 4 cylinder engine.\n",
    ">- For each vehicle.\n",
    ">- Transform the trans column so that it only contains either manual or auto."
   ]
  },
  {
   "cell_type": "code",
   "execution_count": 8,
   "metadata": {},
   "outputs": [
    {
     "name": "stdout",
     "output_type": "stream",
     "text": [
      "+------------+-----+-----+----+---+----------+---+---+---+---+-------+\n",
      "|manufacturer|model|displ|year|cyl|     trans|drv|cty|hwy| fl|  class|\n",
      "+------------+-----+-----+----+---+----------+---+---+---+---+-------+\n",
      "|        audi|   a4|  1.8|1999|  4|  auto(l5)|  f| 18| 29|  p|compact|\n",
      "|        audi|   a4|  1.8|1999|  4|manual(m5)|  f| 21| 29|  p|compact|\n",
      "|        audi|   a4|  2.0|2008|  4|manual(m6)|  f| 20| 31|  p|compact|\n",
      "|        audi|   a4|  2.0|2008|  4|  auto(av)|  f| 21| 30|  p|compact|\n",
      "|        audi|   a4|  2.8|1999|  6|  auto(l5)|  f| 16| 26|  p|compact|\n",
      "+------------+-----+-----+----+---+----------+---+---+---+---+-------+\n",
      "only showing top 5 rows\n",
      "\n"
     ]
    }
   ],
   "source": [
    "#Spark dataframe\n",
    "import pydataset\n",
    "\n",
    "mpg = spark.createDataFrame(pydataset.data(\"mpg\"))\n",
    "mpg.show(5)"
   ]
  },
  {
   "cell_type": "code",
   "execution_count": 9,
   "metadata": {},
   "outputs": [
    {
     "data": {
      "text/plain": [
       "DataFrame[year: bigint, highway_mileage: bigint, city_mileage: bigint, cylinders: bigint]"
      ]
     },
     "execution_count": 9,
     "metadata": {},
     "output_type": "execute_result"
    }
   ],
   "source": [
    "mpg.select(\n",
    "    mpg.year.alias(\"year\"), col(\"hwy\").alias(\"highway_mileage\"),\n",
    "    mpg.cty.alias(\"city_mileage\"), mpg.cyl.alias(\"cylinders\"))"
   ]
  },
  {
   "cell_type": "code",
   "execution_count": 10,
   "metadata": {},
   "outputs": [],
   "source": [
    "from pyspark.sql.functions import concat, sum, avg, min, max, count, mean"
   ]
  },
  {
   "cell_type": "code",
   "execution_count": 11,
   "metadata": {},
   "outputs": [
    {
     "name": "stdout",
     "output_type": "stream",
     "text": [
      "+-------------------------------------------------------------------+\n",
      "|concat(The , year,  , manufacturer,  , model,  has a, cyl,  engine)|\n",
      "+-------------------------------------------------------------------+\n",
      "|The 1999 audi a4 has a4 engine                                     |\n",
      "|The 1999 audi a4 has a4 engine                                     |\n",
      "|The 2008 audi a4 has a4 engine                                     |\n",
      "|The 2008 audi a4 has a4 engine                                     |\n",
      "|The 1999 audi a4 has a6 engine                                     |\n",
      "|The 1999 audi a4 has a6 engine                                     |\n",
      "|The 2008 audi a4 has a6 engine                                     |\n",
      "|The 1999 audi a4 quattro has a4 engine                             |\n",
      "|The 1999 audi a4 quattro has a4 engine                             |\n",
      "|The 2008 audi a4 quattro has a4 engine                             |\n",
      "|The 2008 audi a4 quattro has a4 engine                             |\n",
      "|The 1999 audi a4 quattro has a6 engine                             |\n",
      "|The 1999 audi a4 quattro has a6 engine                             |\n",
      "|The 2008 audi a4 quattro has a6 engine                             |\n",
      "|The 2008 audi a4 quattro has a6 engine                             |\n",
      "|The 1999 audi a6 quattro has a6 engine                             |\n",
      "|The 2008 audi a6 quattro has a6 engine                             |\n",
      "|The 2008 audi a6 quattro has a8 engine                             |\n",
      "|The 2008 chevrolet c1500 suburban 2wd has a8 engine                |\n",
      "|The 2008 chevrolet c1500 suburban 2wd has a8 engine                |\n",
      "+-------------------------------------------------------------------+\n",
      "only showing top 20 rows\n",
      "\n"
     ]
    }
   ],
   "source": [
    "# concatenate string columns to create the desired output column\n",
    "description = mpg.select(concat(lit(\"The \"), mpg.year, (lit(\" \")), mpg.manufacturer, (lit(\" \")), mpg.model, (lit(\" has a\")), mpg.cyl, (lit(\" engine\"))))\n",
    "description.show(20, False)"
   ]
  },
  {
   "cell_type": "code",
   "execution_count": 12,
   "metadata": {},
   "outputs": [
    {
     "name": "stdout",
     "output_type": "stream",
     "text": [
      "+-------------+-------------+----------+\n",
      "|trans_extract|trans_replace|trans_when|\n",
      "+-------------+-------------+----------+\n",
      "|         auto|         auto|      auto|\n",
      "|       manual|       manual|    manual|\n",
      "|       manual|       manual|    manual|\n",
      "|         auto|         auto|      auto|\n",
      "|         auto|         auto|      auto|\n",
      "|       manual|       manual|    manual|\n",
      "|         auto|         auto|      auto|\n",
      "|       manual|       manual|    manual|\n",
      "|         auto|         auto|      auto|\n",
      "|       manual|       manual|    manual|\n",
      "|         auto|         auto|      auto|\n",
      "|         auto|         auto|      auto|\n",
      "|       manual|       manual|    manual|\n",
      "|         auto|         auto|      auto|\n",
      "|       manual|       manual|    manual|\n",
      "|         auto|         auto|      auto|\n",
      "|         auto|         auto|      auto|\n",
      "|         auto|         auto|      auto|\n",
      "|         auto|         auto|      auto|\n",
      "|         auto|         auto|      auto|\n",
      "+-------------+-------------+----------+\n",
      "only showing top 20 rows\n",
      "\n"
     ]
    }
   ],
   "source": [
    "#Transform the trans column so that it only contains either manual or auto.\n",
    "mpg.select(\n",
    "    regexp_extract('trans', r'^(\\w+)\\(', 1).alias('trans_extract'),\n",
    "    regexp_replace('trans', r'\\(.+$', '').alias('trans_replace'),\n",
    "    when(mpg.trans.like('auto%'), 'auto').otherwise('manual').alias('trans_when')\n",
    ").show()"
   ]
  },
  {
   "cell_type": "markdown",
   "metadata": {},
   "source": [
    "### Load the tips dataset as a spark dataframe.\n",
    "- What percentage of observations are smokers?\n",
    "-  Create a column that contains the tip percentage\n",
    "- Calculate the average tip percentage for each combination of sex and smoker."
   ]
  },
  {
   "cell_type": "code",
   "execution_count": 13,
   "metadata": {},
   "outputs": [
    {
     "name": "stdout",
     "output_type": "stream",
     "text": [
      "+----------+----+------+------+---+------+----+\n",
      "|total_bill| tip|   sex|smoker|day|  time|size|\n",
      "+----------+----+------+------+---+------+----+\n",
      "|     16.99|1.01|Female|    No|Sun|Dinner|   2|\n",
      "|     10.34|1.66|  Male|    No|Sun|Dinner|   3|\n",
      "|     21.01| 3.5|  Male|    No|Sun|Dinner|   3|\n",
      "|     23.68|3.31|  Male|    No|Sun|Dinner|   2|\n",
      "|     24.59|3.61|Female|    No|Sun|Dinner|   4|\n",
      "+----------+----+------+------+---+------+----+\n",
      "only showing top 5 rows\n",
      "\n"
     ]
    }
   ],
   "source": [
    "# Load the tips dataset\n",
    "\n",
    "tips = spark.createDataFrame(pydataset.data('tips'))\n",
    "tips.show(5)"
   ]
  },
  {
   "cell_type": "code",
   "execution_count": 14,
   "metadata": {},
   "outputs": [],
   "source": [
    "# tips.groupBy('smoker').count().withColumn('percent',\n",
    "#                                          concat(round((col('count')/tips.count()*100), 0).cast(\"int\"), \n",
    "# lit(\"%\"))).show()"
   ]
  },
  {
   "cell_type": "code",
   "execution_count": 15,
   "metadata": {},
   "outputs": [
    {
     "name": "stdout",
     "output_type": "stream",
     "text": [
      "+------+-----+-------+\n",
      "|smoker|count|percent|\n",
      "+------+-----+-------+\n",
      "|    No|  151|    62%|\n",
      "|   Yes|   93|    38%|\n",
      "+------+-----+-------+\n",
      "\n"
     ]
    }
   ],
   "source": [
    "# What percentage of observations are smokers\n",
    "tips.groupBy('smoker').count().withColumn('percent', \n",
    "                                          concat(round((col('count')/tips.count()*100), 0).cast(\"int\"), \n",
    "                                                 lit(\"%\"))).show()"
   ]
  },
  {
   "cell_type": "code",
   "execution_count": 16,
   "metadata": {},
   "outputs": [
    {
     "name": "stdout",
     "output_type": "stream",
     "text": [
      "+-----+----------+------------------+\n",
      "|total|tip_amount|       tip_percent|\n",
      "+-----+----------+------------------+\n",
      "|16.99|      1.01|5.9446733372572105|\n",
      "|10.34|      1.66|16.054158607350097|\n",
      "|21.01|       3.5|16.658733936220845|\n",
      "|23.68|      3.31| 13.97804054054054|\n",
      "|24.59|      3.61|14.680764538430255|\n",
      "+-----+----------+------------------+\n",
      "only showing top 5 rows\n",
      "\n"
     ]
    }
   ],
   "source": [
    "# Create a column that contains the tip percent\n",
    "tip_percent = (col(\"tip\") / col(\"total_bill\"))*100\n",
    "\n",
    "tips.select(\n",
    "    col(\"total_bill\").alias(\"total\"),\n",
    "    tips.tip.alias(\"tip_amount\"),\n",
    "    tip_percent.alias(\"tip_percent\"),\n",
    ").show(5)"
   ]
  },
  {
   "cell_type": "code",
   "execution_count": 17,
   "metadata": {},
   "outputs": [],
   "source": [
    "tips = tips.withColumn('tip_percent', round((col('tip')/col('total_bill')*100), 2))"
   ]
  },
  {
   "cell_type": "code",
   "execution_count": 18,
   "metadata": {},
   "outputs": [
    {
     "name": "stdout",
     "output_type": "stream",
     "text": [
      "+------+------+------------------+\n",
      "|   sex|smoker|   avg_tip_percent|\n",
      "+------+------+------------------+\n",
      "|  Male|    No| 16.06659793814433|\n",
      "|  Male|   Yes|15.276666666666667|\n",
      "|Female|    No| 15.69111111111111|\n",
      "|Female|   Yes|18.214545454545455|\n",
      "+------+------+------------------+\n",
      "\n"
     ]
    }
   ],
   "source": [
    "tips.groupBy('sex', 'smoker').agg(mean(col('tip_percent')).alias(\"avg_tip_percent\")).show()"
   ]
  },
  {
   "cell_type": "code",
   "execution_count": 19,
   "metadata": {},
   "outputs": [],
   "source": [
    "avg_tip = ((col(\"tip\") / col(\"total_bill\"))*100)\n"
   ]
  },
  {
   "cell_type": "code",
   "execution_count": 23,
   "metadata": {},
   "outputs": [
    {
     "name": "stdout",
     "output_type": "stream",
     "text": [
      "+-----+----------+------------------+\n",
      "|total|tip_amount|       tip_percent|\n",
      "+-----+----------+------------------+\n",
      "|16.99|      1.01|5.9446733372572105|\n",
      "|10.34|      1.66|16.054158607350097|\n",
      "|21.01|       3.5|16.658733936220845|\n",
      "|23.68|      3.31| 13.97804054054054|\n",
      "|24.59|      3.61|14.680764538430255|\n",
      "|25.29|      4.71| 18.62396204033215|\n",
      "| 8.77|       2.0| 22.80501710376283|\n",
      "|26.88|      3.12|11.607142857142858|\n",
      "|15.04|      1.96|13.031914893617023|\n",
      "|14.78|      3.23|21.853856562922868|\n",
      "|10.27|      1.71| 16.65043816942551|\n",
      "|35.26|       5.0|14.180374361883155|\n",
      "|15.42|      1.57|10.181582360570687|\n",
      "|18.43|       3.0|16.277807921866522|\n",
      "|14.83|      3.02|20.364126770060686|\n",
      "|21.58|      3.92|18.164967562557923|\n",
      "|10.33|      1.67| 16.16650532429816|\n",
      "|16.29|      3.71|22.774708410067525|\n",
      "|16.97|       3.5|20.624631703005306|\n",
      "|20.65|      3.35|16.222760290556902|\n",
      "+-----+----------+------------------+\n",
      "only showing top 20 rows\n",
      "\n"
     ]
    }
   ],
   "source": [
    "tips.select(\n",
    "    col(\"total_bill\").alias(\"total\"),\n",
    "    tips.tip.alias(\"tip_amount\"),\n",
    "    tip_percent.alias(\"tip_percent\")).show()\n"
   ]
  },
  {
   "cell_type": "markdown",
   "metadata": {},
   "source": [
    "### Use the seattle weather dataset referenced in the lesson to answer the questions below.\n",
    "- Convert the temperatures to farenheight.\n",
    "- Which month has the most rain, on average?\n",
    "- Which year was the windiest?\n",
    "- What is the most frequent type of weather in January?\n",
    "- What is the average high and low tempurature on sunny days in July in 2013 and 2014?\n",
    "- What percentage of days were rainy in q3 of 2015?\n",
    "- For each year, find what percentage of days it rained (had non-zero precipitation)"
   ]
  },
  {
   "cell_type": "code",
   "execution_count": 24,
   "metadata": {},
   "outputs": [
    {
     "name": "stdout",
     "output_type": "stream",
     "text": [
      "+-------------------+-------------+--------+--------+----+-------+\n",
      "|               date|precipitation|temp_max|temp_min|wind|weather|\n",
      "+-------------------+-------------+--------+--------+----+-------+\n",
      "|2012-01-01 00:00:00|          0.0|    12.8|     5.0| 4.7|drizzle|\n",
      "|2012-01-02 00:00:00|         10.9|    10.6|     2.8| 4.5|   rain|\n",
      "|2012-01-03 00:00:00|          0.8|    11.7|     7.2| 2.3|   rain|\n",
      "|2012-01-04 00:00:00|         20.3|    12.2|     5.6| 4.7|   rain|\n",
      "+-------------------+-------------+--------+--------+----+-------+\n",
      "only showing top 4 rows\n",
      "\n"
     ]
    }
   ],
   "source": [
    "from vega_datasets import data\n",
    "\n",
    "weather = data.seattle_weather()\n",
    "weather = spark.createDataFrame(weather)\n",
    "weather.show(4)"
   ]
  },
  {
   "cell_type": "code",
   "execution_count": 25,
   "metadata": {},
   "outputs": [
    {
     "name": "stdout",
     "output_type": "stream",
     "text": [
      "+-------------------+-------------+------------------+------------------+----+-------+\n",
      "|               date|precipitation|          temp_max|          temp_min|wind|weather|\n",
      "+-------------------+-------------+------------------+------------------+----+-------+\n",
      "|2012-01-01 00:00:00|          0.0|             55.04|              41.0| 4.7|drizzle|\n",
      "|2012-01-02 00:00:00|         10.9|             51.08|             37.04| 4.5|   rain|\n",
      "|2012-01-03 00:00:00|          0.8|             53.06|             44.96| 2.3|   rain|\n",
      "|2012-01-04 00:00:00|         20.3|             53.96|             42.08| 4.7|   rain|\n",
      "|2012-01-05 00:00:00|          1.3|             48.02|             37.04| 6.1|   rain|\n",
      "|2012-01-06 00:00:00|          2.5|             39.92|             35.96| 2.2|   rain|\n",
      "|2012-01-07 00:00:00|          0.0|             44.96|             37.04| 2.3|   rain|\n",
      "|2012-01-08 00:00:00|          0.0|              50.0|             37.04| 2.0|    sun|\n",
      "|2012-01-09 00:00:00|          4.3|             48.92|              41.0| 3.4|   rain|\n",
      "|2012-01-10 00:00:00|          1.0|42.980000000000004|             33.08| 3.4|   rain|\n",
      "|2012-01-11 00:00:00|          0.0|42.980000000000004|             30.02| 5.1|    sun|\n",
      "|2012-01-12 00:00:00|          0.0|42.980000000000004|             28.94| 1.9|    sun|\n",
      "|2012-01-13 00:00:00|          0.0|              41.0|             26.96| 1.3|    sun|\n",
      "|2012-01-14 00:00:00|          4.1|             39.92|             33.08| 5.3|   snow|\n",
      "|2012-01-15 00:00:00|          5.3|             33.98|26.060000000000002| 3.2|   snow|\n",
      "|2012-01-16 00:00:00|          2.5|             35.06|             26.96| 5.0|   snow|\n",
      "|2012-01-17 00:00:00|          8.1|             37.94|              32.0| 5.6|   snow|\n",
      "|2012-01-18 00:00:00|         19.8|              32.0|             26.96| 5.0|   snow|\n",
      "|2012-01-19 00:00:00|         15.2|             30.02|             26.96| 1.6|   snow|\n",
      "|2012-01-20 00:00:00|         13.5|             44.96|             30.02| 2.3|   snow|\n",
      "+-------------------+-------------+------------------+------------------+----+-------+\n",
      "only showing top 20 rows\n",
      "\n"
     ]
    }
   ],
   "source": [
    "# Convert temperatures to F\n",
    "weather = (weather\n",
    "           .withColumn('temp_max', (col('temp_max') * 9/5 + 32))\n",
    "           .withColumn('temp_min', (col('temp_min') * 9/5 + 32)))\n",
    "weather.show()"
   ]
  },
  {
   "cell_type": "code",
   "execution_count": 26,
   "metadata": {},
   "outputs": [
    {
     "data": {
      "text/plain": [
       "Row(month=11, avg_monthly_rain=160.625)"
      ]
     },
     "execution_count": 26,
     "metadata": {},
     "output_type": "execute_result"
    }
   ],
   "source": [
    "# which month had the most rain on average\n",
    "(weather\n",
    " .withColumn('month', month('date')) #separate date column into month and year\n",
    " .withColumn('year', year('date'))\n",
    " .groupBy('month', 'year') # group each month for each year combo\n",
    " .agg(sum('precipitation').alias('total_monthly_precipitation')) # sum the total precipitation for each month\n",
    " .groupBy('month') #groupby month\n",
    " .agg(mean('total_monthly_precipitation').alias('avg_monthly_rain')) #take the mean\n",
    " .sort(col('avg_monthly_rain').desc()) # sort the columns\n",
    " .first()\n",
    ")"
   ]
  },
  {
   "cell_type": "code",
   "execution_count": 27,
   "metadata": {},
   "outputs": [
    {
     "data": {
      "text/plain": [
       "Row(year=2012, total_winds=1244.7)"
      ]
     },
     "execution_count": 27,
     "metadata": {},
     "output_type": "execute_result"
    }
   ],
   "source": [
    "# Which year is the windiest\n",
    "(weather\n",
    " .withColumn('year', year('date'))\n",
    " .groupBy('year')\n",
    " .agg(sum('wind').alias('total_winds'))\n",
    " .sort(col('total_winds').desc())\n",
    " .first()\n",
    ")"
   ]
  },
  {
   "cell_type": "code",
   "execution_count": 28,
   "metadata": {},
   "outputs": [
    {
     "name": "stdout",
     "output_type": "stream",
     "text": [
      "+-------+-----+\n",
      "|weather|count|\n",
      "+-------+-----+\n",
      "|    fog|   38|\n",
      "|   rain|   35|\n",
      "|    sun|   33|\n",
      "|drizzle|   10|\n",
      "|   snow|    8|\n",
      "+-------+-----+\n",
      "\n"
     ]
    }
   ],
   "source": [
    "# What is the most frequent type of weather in January?\n",
    "(weather\n",
    " .withColumn('month', month('date'))\n",
    " .filter(col('month') == 1)\n",
    " .groupBy('weather')\n",
    " .count()\n",
    " .sort(col('count').desc())\n",
    " .show()\n",
    ")"
   ]
  },
  {
   "cell_type": "code",
   "execution_count": 29,
   "metadata": {},
   "outputs": [
    {
     "name": "stdout",
     "output_type": "stream",
     "text": [
      "+-----------------+-----------------+\n",
      "|average_high_temp| average_low_temp|\n",
      "+-----------------+-----------------+\n",
      "|80.29192307692308|57.52884615384615|\n",
      "+-----------------+-----------------+\n",
      "\n"
     ]
    }
   ],
   "source": [
    "# What is the average high and low tempurature on sunny days in July in 2013 and 2014?\n",
    "(weather\n",
    " .filter(month('date') == 7)\n",
    " .filter(year('date') > 2012)\n",
    " .filter(year('date') < 2015)\n",
    " .filter(col('weather') == lit('sun'))\n",
    " .agg(avg('temp_max').alias('average_high_temp'), avg('temp_min').alias('average_low_temp'))\n",
    " .show()\n",
    ")"
   ]
  },
  {
   "cell_type": "code",
   "execution_count": 30,
   "metadata": {},
   "outputs": [
    {
     "name": "stdout",
     "output_type": "stream",
     "text": [
      "+--------------------+\n",
      "|           avg(rain)|\n",
      "+--------------------+\n",
      "|0.021739130434782608|\n",
      "+--------------------+\n",
      "\n"
     ]
    }
   ],
   "source": [
    "# What percentage of days were rainy in q3 of 2015?\n",
    "(weather\n",
    " .filter(year('date') == 2015)\n",
    " .filter(quarter('date') == 3)\n",
    " .select(when(col('weather') == 'rain', 1).otherwise(0).alias('rain'))\n",
    " .agg(mean('rain'))\n",
    " .show()\n",
    ")"
   ]
  },
  {
   "cell_type": "code",
   "execution_count": 31,
   "metadata": {},
   "outputs": [
    {
     "name": "stdout",
     "output_type": "stream",
     "text": [
      "+----+-------------------+\n",
      "|year| pct_days_with_rain|\n",
      "+----+-------------------+\n",
      "|2015|0.39452054794520547|\n",
      "|2013|0.41643835616438357|\n",
      "|2014|  0.410958904109589|\n",
      "|2012|0.48360655737704916|\n",
      "+----+-------------------+\n",
      "\n"
     ]
    }
   ],
   "source": [
    "# For each year, find what percentage of days it rained (had non-zero precipitation)\n",
    "(weather\n",
    " .withColumn('rain', (when(col('precipitation') > 0, 1).otherwise(0)))\n",
    " .groupBy(year('date').alias('year'))\n",
    " .agg(mean(col('rain')).alias('pct_days_with_rain'))\n",
    " .show()\n",
    ")"
   ]
  },
  {
   "cell_type": "code",
   "execution_count": null,
   "metadata": {},
   "outputs": [],
   "source": []
  }
 ],
 "metadata": {
  "kernelspec": {
   "display_name": "Python 3",
   "language": "python",
   "name": "python3"
  },
  "language_info": {
   "codemirror_mode": {
    "name": "ipython",
    "version": 3
   },
   "file_extension": ".py",
   "mimetype": "text/x-python",
   "name": "python",
   "nbconvert_exporter": "python",
   "pygments_lexer": "ipython3",
   "version": "3.7.4"
  }
 },
 "nbformat": 4,
 "nbformat_minor": 2
}

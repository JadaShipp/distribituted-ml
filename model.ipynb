{
 "cells": [
  {
   "cell_type": "code",
   "execution_count": 5,
   "metadata": {},
   "outputs": [],
   "source": [
    "from pydataset import data\n",
    "import pyspark\n",
    "import pyspark.ml\n",
    "from pyspark.sql.functions import *\n",
    "\n",
    "%matplotlib inline\n",
    "from pydataset import data\n",
    "\n",
    "spark = pyspark.sql.SparkSession.builder.getOrCreate()\n",
    "\n",
    "df = spark.createDataFrame(data('tips'))\n",
    "\n",
    "train, test = df.randomSplit([0.8, 0.2], seed=123)"
   ]
  },
  {
   "cell_type": "code",
   "execution_count": 6,
   "metadata": {},
   "outputs": [],
   "source": [
    "def shape(df: pyspark.sql.DataFrame):\n",
    "    return df.count(), len(df.columns)"
   ]
  },
  {
   "cell_type": "code",
   "execution_count": 7,
   "metadata": {},
   "outputs": [
    {
     "name": "stdout",
     "output_type": "stream",
     "text": [
      "+---------+-----------+-----------+---------+--------+----------------+\n",
      "|fertility|agriculture|examination|education|catholic|infant_mortality|\n",
      "+---------+-----------+-----------+---------+--------+----------------+\n",
      "|     80.2|       17.0|         15|       12|    9.96|            22.2|\n",
      "|     83.1|       45.1|          6|        9|   84.84|            22.2|\n",
      "|     92.5|       39.7|          5|        5|    93.4|            20.2|\n",
      "|     85.8|       36.5|         12|        7|   33.77|            20.3|\n",
      "|     76.9|       43.5|         17|       15|    5.16|            20.6|\n",
      "+---------+-----------+-----------+---------+--------+----------------+\n",
      "only showing top 5 rows\n",
      "\n"
     ]
    }
   ],
   "source": [
    "swiss = data(\"swiss\")\n",
    "swiss.columns = [col.lower().replace(\".\", \"_\") for col in swiss]\n",
    "swiss = spark.createDataFrame(swiss)\n",
    "swiss.show(5)"
   ]
  },
  {
   "cell_type": "code",
   "execution_count": null,
   "metadata": {},
   "outputs": [],
   "source": []
  }
 ],
 "metadata": {
  "kernelspec": {
   "display_name": "Python 3",
   "language": "python",
   "name": "python3"
  },
  "language_info": {
   "codemirror_mode": {
    "name": "ipython",
    "version": 3
   },
   "file_extension": ".py",
   "mimetype": "text/x-python",
   "name": "python",
   "nbconvert_exporter": "python",
   "pygments_lexer": "ipython3",
   "version": "3.7.4"
  }
 },
 "nbformat": 4,
 "nbformat_minor": 2
}
